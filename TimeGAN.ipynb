{
 "cells": [
  {
   "cell_type": "markdown",
   "id": "1a32cf30",
   "metadata": {},
   "source": [
    "# TimeGAN\n",
    "\n",
    "Adapted from Stefan Jansen's book  \n",
    "[Machine Learning for Trading](https://github.com/stefan-jansen/machine-learning-for-trading/blob/main/21_gans_for_synthetic_time_series/02_TimeGAN_TF2.ipynb).  \n",
    "*TensorFlow2 implemention*  \n",
    "*stock prices*  \n",
    "\n",
    "Which in turn was based Jinsung Yoon, Daniel Jarrett, and Mihaela van der Schaar's paper  \n",
    "[Time-series Generative Adversarial Networks](https://proceedings.neurips.cc/paper/2019/file/c9efe5f26cd17ba6216bbe2a7d26d490-Paper.pdf),\n",
    "Neural Information Processing Systems (NeurIPS), 2019.  \n",
    "*TensorFlow1 implementation*  \n",
    "*Google stock data -- Open, High, Low, Close, Adj_Close, Volume*\n",
    "\n",
    "Last updated: Feb 1, 2023  \n",
    "[Original code](https://github.com/vanderschaarlab/mlforhealthlabpub/tree/main/alg/timegan) by Jinsung Yoon (jsyoon0823@gmail.com)  "
   ]
  },
  {
   "cell_type": "markdown",
   "id": "1fd76bfa",
   "metadata": {},
   "source": [
    "\n",
    "## Troubleshooting\n",
    "In Autoencoder Training Loop (M1 Mac)\n",
    "* **Error:** Graph execution error: Detected at node 'StatefulPartitionedCall_21' defined at (most recent call last)\n",
    "* **Problem:** Apple's latest version of `tensorflow-deps=2.10.0` is not compatible with latest versions of `tensorflow-macos=2.11.0` and `tensorflow-metal==0.7.0`. The latest version of `tensorflow==2.11.0` has a new optimizer API.\n",
    "* **[Temporary Fix](https://developer.apple.com/forums/thread/721619):** Use `from tensorflow.keras.optimizers.legacy import Adam` for now"
   ]
  },
  {
   "cell_type": "markdown",
   "id": "23b1ace2",
   "metadata": {},
   "source": [
    "## 1. Imports & Settings"
   ]
  },
  {
   "cell_type": "code",
   "execution_count": 1,
   "id": "802a91d1",
   "metadata": {},
   "outputs": [],
   "source": [
    "import warnings\n",
    "warnings.filterwarnings('ignore')"
   ]
  },
  {
   "cell_type": "code",
   "execution_count": 2,
   "id": "00855495",
   "metadata": {},
   "outputs": [],
   "source": [
    "import pandas as pd\n",
    "import numpy as np\n",
    "from sklearn.preprocessing import MinMaxScaler\n",
    "import tensorflow as tf\n",
    "from pathlib import Path\n",
    "from tqdm import tqdm\n",
    "import random\n",
    "\n",
    "from tensorflow.keras.models import Sequential, Model\n",
    "from tensorflow.keras.layers import GRU, Dense, RNN, GRUCell, Input\n",
    "from tensorflow.keras.losses import BinaryCrossentropy, MeanSquaredError\n",
    "# from tensorflow.keras.optimizers import Adam\n",
    "from tensorflow.keras.optimizers.legacy import Adam # solve tensorflow issue on M1 Mac\n",
    "from tensorflow.keras.callbacks import TensorBoard\n",
    "from tensorflow.keras.utils import plot_model\n",
    "\n",
    "import matplotlib.pyplot as plt\n",
    "import seaborn as sns"
   ]
  },
  {
   "cell_type": "code",
   "execution_count": 3,
   "id": "baa85f5b",
   "metadata": {},
   "outputs": [
    {
     "name": "stdout",
     "output_type": "stream",
     "text": [
      "Using GPU\n"
     ]
    }
   ],
   "source": [
    "gpu_devices = tf.config.experimental.list_physical_devices('GPU')\n",
    "if gpu_devices:\n",
    "    print('Using GPU')\n",
    "    tf.config.experimental.set_memory_growth(gpu_devices[0], True)\n",
    "else:\n",
    "    print('Using CPU')"
   ]
  },
  {
   "cell_type": "code",
   "execution_count": 4,
   "id": "30121885",
   "metadata": {},
   "outputs": [],
   "source": [
    "sns.set_style('white')"
   ]
  },
  {
   "cell_type": "code",
   "execution_count": 5,
   "id": "ebd31804",
   "metadata": {},
   "outputs": [],
   "source": [
    "RANDOM_SEED = 42"
   ]
  },
  {
   "cell_type": "markdown",
   "id": "a41c13ec",
   "metadata": {},
   "source": [
    "## 2. Experiment Path"
   ]
  },
  {
   "cell_type": "code",
   "execution_count": 6,
   "id": "ec9655b2",
   "metadata": {},
   "outputs": [],
   "source": [
    "results_path = Path('time_gan')\n",
    "if not results_path.exists():\n",
    "    results_path.mkdir()"
   ]
  },
  {
   "cell_type": "code",
   "execution_count": 7,
   "id": "2e151304",
   "metadata": {},
   "outputs": [],
   "source": [
    "experiment = 1"
   ]
  },
  {
   "cell_type": "code",
   "execution_count": 8,
   "id": "024a9842",
   "metadata": {},
   "outputs": [],
   "source": [
    "log_dir = results_path / f'experiment_{experiment:02}'\n",
    "if not log_dir.exists():\n",
    "    log_dir.mkdir(parents=True)"
   ]
  },
  {
   "cell_type": "code",
   "execution_count": 9,
   "id": "d3cf533a",
   "metadata": {},
   "outputs": [],
   "source": [
    "hdf_store = results_path / 'TimeSeriesGAN.h5'"
   ]
  },
  {
   "cell_type": "markdown",
   "id": "38fa7561",
   "metadata": {},
   "source": [
    "## 3. Prepare Data"
   ]
  },
  {
   "cell_type": "markdown",
   "id": "a197bbed",
   "metadata": {},
   "source": [
    "### 3.1. Parameters"
   ]
  },
  {
   "cell_type": "code",
   "execution_count": 10,
   "id": "bcdda552",
   "metadata": {},
   "outputs": [],
   "source": [
    "seq_len = 24 # number of timepoints in rolling window \n",
    "batch_size = 128\n",
    "n_seq = 6 # number of features"
   ]
  },
  {
   "cell_type": "code",
   "execution_count": 11,
   "id": "6007b3fc",
   "metadata": {},
   "outputs": [],
   "source": [
    "features = ['Open', 'High', 'Low', 'Close', 'Adj_Close', 'Volume']"
   ]
  },
  {
   "cell_type": "code",
   "execution_count": 12,
   "id": "e3950a6f",
   "metadata": {},
   "outputs": [],
   "source": [
    "def select_data():\n",
    "    df = (pd.read_csv('data/GOOGLE_BIG.csv')\n",
    "          .dropna())\n",
    "    df.to_hdf(hdf_store, 'data/real')"
   ]
  },
  {
   "cell_type": "code",
   "execution_count": 13,
   "id": "1f4535b9",
   "metadata": {},
   "outputs": [],
   "source": [
    "select_data()"
   ]
  },
  {
   "cell_type": "markdown",
   "id": "f45925b7",
   "metadata": {},
   "source": [
    "### 3.2. Plot Series"
   ]
  },
  {
   "cell_type": "code",
   "execution_count": 14,
   "id": "b96acb31",
   "metadata": {},
   "outputs": [],
   "source": [
    "df = pd.read_hdf(hdf_store, 'data/real')"
   ]
  },
  {
   "cell_type": "code",
   "execution_count": 15,
   "id": "fbadad57",
   "metadata": {},
   "outputs": [
    {
     "data": {
      "text/plain": [
       "(3685, 6)"
      ]
     },
     "execution_count": 15,
     "metadata": {},
     "output_type": "execute_result"
    }
   ],
   "source": [
    "df.shape"
   ]
  },
  {
   "cell_type": "code",
   "execution_count": 16,
   "id": "98821d1d",
   "metadata": {},
   "outputs": [
    {
     "data": {
      "text/html": [
       "<div>\n",
       "<style scoped>\n",
       "    .dataframe tbody tr th:only-of-type {\n",
       "        vertical-align: middle;\n",
       "    }\n",
       "\n",
       "    .dataframe tbody tr th {\n",
       "        vertical-align: top;\n",
       "    }\n",
       "\n",
       "    .dataframe thead th {\n",
       "        text-align: right;\n",
       "    }\n",
       "</style>\n",
       "<table border=\"1\" class=\"dataframe\">\n",
       "  <thead>\n",
       "    <tr style=\"text-align: right;\">\n",
       "      <th></th>\n",
       "      <th>Open</th>\n",
       "      <th>High</th>\n",
       "      <th>Low</th>\n",
       "      <th>Close</th>\n",
       "      <th>Adj_Close</th>\n",
       "      <th>Volume</th>\n",
       "    </tr>\n",
       "  </thead>\n",
       "  <tbody>\n",
       "    <tr>\n",
       "      <th>0</th>\n",
       "      <td>49.676899</td>\n",
       "      <td>51.693783</td>\n",
       "      <td>47.669952</td>\n",
       "      <td>49.845802</td>\n",
       "      <td>49.845802</td>\n",
       "      <td>44994500</td>\n",
       "    </tr>\n",
       "    <tr>\n",
       "      <th>1</th>\n",
       "      <td>50.178635</td>\n",
       "      <td>54.187561</td>\n",
       "      <td>49.925285</td>\n",
       "      <td>53.805050</td>\n",
       "      <td>53.805050</td>\n",
       "      <td>23005800</td>\n",
       "    </tr>\n",
       "    <tr>\n",
       "      <th>2</th>\n",
       "      <td>55.017166</td>\n",
       "      <td>56.373344</td>\n",
       "      <td>54.172661</td>\n",
       "      <td>54.346527</td>\n",
       "      <td>54.346527</td>\n",
       "      <td>18393200</td>\n",
       "    </tr>\n",
       "    <tr>\n",
       "      <th>3</th>\n",
       "      <td>55.260582</td>\n",
       "      <td>55.439419</td>\n",
       "      <td>51.450363</td>\n",
       "      <td>52.096165</td>\n",
       "      <td>52.096165</td>\n",
       "      <td>15361800</td>\n",
       "    </tr>\n",
       "    <tr>\n",
       "      <th>4</th>\n",
       "      <td>52.140873</td>\n",
       "      <td>53.651051</td>\n",
       "      <td>51.604362</td>\n",
       "      <td>52.657513</td>\n",
       "      <td>52.657513</td>\n",
       "      <td>9257400</td>\n",
       "    </tr>\n",
       "  </tbody>\n",
       "</table>\n",
       "</div>"
      ],
      "text/plain": [
       "        Open       High        Low      Close  Adj_Close    Volume\n",
       "0  49.676899  51.693783  47.669952  49.845802  49.845802  44994500\n",
       "1  50.178635  54.187561  49.925285  53.805050  53.805050  23005800\n",
       "2  55.017166  56.373344  54.172661  54.346527  54.346527  18393200\n",
       "3  55.260582  55.439419  51.450363  52.096165  52.096165  15361800\n",
       "4  52.140873  53.651051  51.604362  52.657513  52.657513   9257400"
      ]
     },
     "execution_count": 16,
     "metadata": {},
     "output_type": "execute_result"
    }
   ],
   "source": [
    "df.head()"
   ]
  },
  {
   "cell_type": "code",
   "execution_count": 17,
   "id": "592a042a",
   "metadata": {},
   "outputs": [
    {
     "data": {
      "image/png": "[encoded data removed]",
      "text/plain": [
       "<Figure size 1400x600 with 6 Axes>"
      ]
     },
     "metadata": {},
     "output_type": "display_data"
    }
   ],
   "source": [
    "axes = df.div(df.iloc[0]).plot(subplots=True,\n",
    "                               figsize=(14, 6),\n",
    "                               layout=(3, 2),\n",
    "                               title=features,\n",
    "                               legend=False,\n",
    "                               rot=0,\n",
    "                               lw=1, \n",
    "                               color='k')\n",
    "for ax in axes.flatten():\n",
    "    ax.set_xlabel('')\n",
    "\n",
    "plt.suptitle('Price Series')\n",
    "plt.gcf().tight_layout()\n",
    "sns.despine()"
   ]
  },
  {
   "cell_type": "markdown",
   "id": "a2ae833c",
   "metadata": {},
   "source": [
    "### 3.3. Correlation"
   ]
  },
  {
   "cell_type": "code",
   "execution_count": 18,
   "id": "52b69af3",
   "metadata": {},
   "outputs": [
    {
     "data": {
      "image/png": "[encoded data removed]",
      "text/plain": [
       "<Figure size 1000x1000 with 4 Axes>"
      ]
     },
     "metadata": {},
     "output_type": "display_data"
    }
   ],
   "source": [
    "sns.clustermap(df.corr(),\n",
    "               annot=True,\n",
    "               fmt='.2f',\n",
    "               cmap=sns.diverging_palette(h_neg=20,\n",
    "                                          h_pos=220), center=0);"
   ]
  },
  {
   "cell_type": "markdown",
   "id": "4c9eac00",
   "metadata": {},
   "source": [
    "### 3.4. Normalize Data"
   ]
  },
  {
   "cell_type": "code",
   "execution_count": 19,
   "id": "0fe29eea",
   "metadata": {},
   "outputs": [],
   "source": [
    "scaler = MinMaxScaler()\n",
    "scaled_data = scaler.fit_transform(df).astype(np.float32)"
   ]
  },
  {
   "cell_type": "markdown",
   "id": "5aed722c",
   "metadata": {},
   "source": [
    "### 3.5. Create rolling window sequences"
   ]
  },
  {
   "cell_type": "code",
   "execution_count": 20,
   "id": "0be3b548",
   "metadata": {},
   "outputs": [],
   "source": [
    "data = []\n",
    "for i in range(len(df) - seq_len):\n",
    "    data.append(scaled_data[i:i + seq_len])\n",
    "\n",
    "n_windows = len(data)"
   ]
  },
  {
   "cell_type": "markdown",
   "id": "f6dedb8a",
   "metadata": {},
   "source": [
    "### 3.6. Create tf.data.Dataset"
   ]
  },
  {
   "cell_type": "code",
   "execution_count": 21,
   "id": "e37369fa",
   "metadata": {},
   "outputs": [
    {
     "name": "stdout",
     "output_type": "stream",
     "text": [
      "Metal device set to: Apple M1 Max\n",
      "\n",
      "systemMemory: 32.00 GB\n",
      "maxCacheSize: 10.67 GB\n",
      "\n"
     ]
    },
    {
     "name": "stderr",
     "output_type": "stream",
     "text": [
      "2023-02-08 18:48:32.729903: I tensorflow/core/common_runtime/pluggable_device/pluggable_device_factory.cc:306] Could not identify NUMA node of platform GPU ID 0, defaulting to 0. Your kernel may not have been built with NUMA support.\n",
      "2023-02-08 18:48:32.729927: I tensorflow/core/common_runtime/pluggable_device/pluggable_device_factory.cc:272] Created TensorFlow device (/job:localhost/replica:0/task:0/device:GPU:0 with 0 MB memory) -> physical PluggableDevice (device: 0, name: METAL, pci bus id: <undefined>)\n"
     ]
    }
   ],
   "source": [
    "real_series = (tf.data.Dataset\n",
    "               .from_tensor_slices(data)\n",
    "               .shuffle( # mix the datasets (to make it similar to i.i.d.)\n",
    "                    buffer_size=n_windows, \n",
    "                    seed=RANDOM_SEED\n",
    "                ) \n",
    "               .batch(batch_size))\n",
    "real_series_iter = iter(real_series.repeat())"
   ]
  },
  {
   "cell_type": "markdown",
   "id": "59d73ef7",
   "metadata": {},
   "source": [
    "### 3.7. Set up random series generator"
   ]
  },
  {
   "cell_type": "code",
   "execution_count": 22,
   "id": "d6cea028",
   "metadata": {},
   "outputs": [],
   "source": [
    "def make_random_data():\n",
    "    while True:\n",
    "        yield np.random.uniform(low=0, high=1, size=(seq_len, n_seq))"
   ]
  },
  {
   "cell_type": "markdown",
   "id": "d6833803",
   "metadata": {},
   "source": [
    "We use the Python generator to feed a `tf.data.Dataset` that continues to call the random number generator as long as necessary and produces the desired batch size."
   ]
  },
  {
   "cell_type": "code",
   "execution_count": 23,
   "id": "21e9d066",
   "metadata": {},
   "outputs": [
    {
     "name": "stderr",
     "output_type": "stream",
     "text": [
      "2023-02-08 18:48:32.900523: W tensorflow/tsl/platform/profile_utils/cpu_utils.cc:128] Failed to get CPU frequency: 0 Hz\n"
     ]
    }
   ],
   "source": [
    "random_series = iter(tf.data.Dataset\n",
    "                     .from_generator(make_random_data, output_types=tf.float32)\n",
    "                     .batch(batch_size)\n",
    "                     .repeat())"
   ]
  },
  {
   "cell_type": "markdown",
   "id": "bfbe693f",
   "metadata": {},
   "source": [
    "## 4. TimeGAN Components"
   ]
  },
  {
   "cell_type": "markdown",
   "id": "82fe264e",
   "metadata": {},
   "source": [
    "The design of the TimeGAN components follows the author's sample code."
   ]
  },
  {
   "cell_type": "markdown",
   "id": "8e45c8ec",
   "metadata": {},
   "source": [
    "### 4.1. Network Parameters"
   ]
  },
  {
   "cell_type": "code",
   "execution_count": 24,
   "id": "d1292514",
   "metadata": {},
   "outputs": [],
   "source": [
    "hidden_dim = n_seq * 4\n",
    "num_layers = 3"
   ]
  },
  {
   "cell_type": "markdown",
   "id": "a854b239",
   "metadata": {},
   "source": [
    "### 4.2. Set up logger"
   ]
  },
  {
   "cell_type": "code",
   "execution_count": 25,
   "id": "5993e75d",
   "metadata": {},
   "outputs": [],
   "source": [
    "writer = tf.summary.create_file_writer(log_dir.as_posix())"
   ]
  },
  {
   "cell_type": "markdown",
   "id": "eabc9b8a",
   "metadata": {},
   "source": [
    "### 4.3. Input place holders"
   ]
  },
  {
   "cell_type": "code",
   "execution_count": 26,
   "id": "283b7454",
   "metadata": {},
   "outputs": [],
   "source": [
    "X = Input(shape=[seq_len, n_seq], name='RealData')\n",
    "Z = Input(shape=[seq_len, n_seq], name='RandomData')"
   ]
  },
  {
   "cell_type": "markdown",
   "id": "73919f1b",
   "metadata": {},
   "source": [
    "### 4.4. RNN block generator"
   ]
  },
  {
   "cell_type": "markdown",
   "id": "8304ce94",
   "metadata": {},
   "source": [
    "We keep it very simple and use a very similar architecture for all four components. For a real-world application, they should be tailored to the data."
   ]
  },
  {
   "cell_type": "code",
   "execution_count": 27,
   "id": "eaeec0b4",
   "metadata": {},
   "outputs": [],
   "source": [
    "def make_rnn(n_layers, hidden_units, output_units, name):\n",
    "    return Sequential([GRU(units=hidden_units,\n",
    "                           return_sequences=True,\n",
    "                           name=f'GRU_{i + 1}') for i in range(n_layers)] +\n",
    "                      [Dense(units=output_units,\n",
    "                             activation='sigmoid',\n",
    "                             name='OUT')], name=name)"
   ]
  },
  {
   "cell_type": "markdown",
   "id": "c9a4ef07",
   "metadata": {},
   "source": [
    "### 4.5. Embedder & Recovery"
   ]
  },
  {
   "cell_type": "code",
   "execution_count": 28,
   "id": "b2623eef",
   "metadata": {},
   "outputs": [],
   "source": [
    "embedder = make_rnn(n_layers=3, \n",
    "                    hidden_units=hidden_dim, \n",
    "                    output_units=hidden_dim, \n",
    "                    name='Embedder')\n",
    "recovery = make_rnn(n_layers=3, \n",
    "                    hidden_units=hidden_dim, \n",
    "                    output_units=n_seq, \n",
    "                    name='Recovery')"
   ]
  },
  {
   "cell_type": "markdown",
   "id": "7a10fdcf",
   "metadata": {},
   "source": [
    "### 4.6. Generator & Discriminator"
   ]
  },
  {
   "cell_type": "code",
   "execution_count": 29,
   "id": "157f2a37",
   "metadata": {},
   "outputs": [],
   "source": [
    "generator = make_rnn(n_layers=3, \n",
    "                     hidden_units=hidden_dim, \n",
    "                     output_units=hidden_dim, \n",
    "                     name='Generator')\n",
    "discriminator = make_rnn(n_layers=3, \n",
    "                         hidden_units=hidden_dim, \n",
    "                         output_units=1, \n",
    "                         name='Discriminator')\n",
    "supervisor = make_rnn(n_layers=2, \n",
    "                      hidden_units=hidden_dim, \n",
    "                      output_units=hidden_dim, \n",
    "                      name='Supervisor')"
   ]
  },
  {
   "cell_type": "markdown",
   "id": "6c223191",
   "metadata": {},
   "source": [
    "## 5. TimeGAN Training"
   ]
  },
  {
   "cell_type": "markdown",
   "id": "3a2c474d",
   "metadata": {},
   "source": [
    "### 5.1. Settings"
   ]
  },
  {
   "cell_type": "code",
   "execution_count": 30,
   "id": "41bf92cb",
   "metadata": {},
   "outputs": [],
   "source": [
    "# iterations = 10000 in blog post, took ~2.5 hours\n",
    "# iterations = 50000 in original paper\n",
    "train_steps = 50000\n",
    "gamma = 1"
   ]
  },
  {
   "cell_type": "markdown",
   "id": "b92c1800",
   "metadata": {},
   "source": [
    "### 5.2. Generic Loss Functions"
   ]
  },
  {
   "cell_type": "code",
   "execution_count": 31,
   "id": "f00371f2",
   "metadata": {},
   "outputs": [],
   "source": [
    "mse = MeanSquaredError()\n",
    "bce = BinaryCrossentropy()"
   ]
  },
  {
   "cell_type": "markdown",
   "id": "cc6d9368",
   "metadata": {},
   "source": [
    "## 6. Phase 1: Autoencoder Training"
   ]
  },
  {
   "cell_type": "markdown",
   "id": "91ea3c75",
   "metadata": {},
   "source": [
    "### 6.1. Architecture"
   ]
  },
  {
   "cell_type": "code",
   "execution_count": 32,
   "id": "4b69bb69",
   "metadata": {},
   "outputs": [],
   "source": [
    "H = embedder(X)\n",
    "X_tilde = recovery(H)\n",
    "\n",
    "autoencoder = Model(inputs=X,\n",
    "                    outputs=X_tilde,\n",
    "                    name='Autoencoder')"
   ]
  },
  {
   "cell_type": "code",
   "execution_count": 33,
   "id": "a9dcf35d",
   "metadata": {},
   "outputs": [
    {
     "name": "stdout",
     "output_type": "stream",
     "text": [
      "Model: \"Autoencoder\"\n",
      "_________________________________________________________________\n",
      " Layer (type)                Output Shape              Param #   \n",
      "=================================================================\n",
      " RealData (InputLayer)       [(None, 24, 6)]           0         \n",
      "                                                                 \n",
      " Embedder (Sequential)       (None, 24, 24)            10104     \n",
      "                                                                 \n",
      " Recovery (Sequential)       (None, 24, 6)             10950     \n",
      "                                                                 \n",
      "=================================================================\n",
      "Total params: 21,054\n",
      "Trainable params: 21,054\n",
      "Non-trainable params: 0\n",
      "_________________________________________________________________\n"
     ]
    }
   ],
   "source": [
    "autoencoder.summary()"
   ]
  },
  {
   "cell_type": "code",
   "execution_count": 34,
   "id": "08f5ae76",
   "metadata": {},
   "outputs": [
    {
     "data": {
      "image/png": "[encoded data removed]",
      "text/plain": [
       "<IPython.core.display.Image object>"
      ]
     },
     "execution_count": 34,
     "metadata": {},
     "output_type": "execute_result"
    }
   ],
   "source": [
    "plot_model(autoencoder,\n",
    "           to_file=(results_path / 'autoencoder.png').as_posix(),\n",
    "           show_shapes=True)"
   ]
  },
  {
   "cell_type": "markdown",
   "id": "36348423",
   "metadata": {},
   "source": [
    "### 6.2. Autoencoder Optimizer"
   ]
  },
  {
   "cell_type": "code",
   "execution_count": 35,
   "id": "dfb88a2c",
   "metadata": {},
   "outputs": [],
   "source": [
    "autoencoder_optimizer = Adam()"
   ]
  },
  {
   "cell_type": "markdown",
   "id": "85f4759d",
   "metadata": {},
   "source": [
    "### 6.3. Autoencoder Training Step"
   ]
  },
  {
   "cell_type": "code",
   "execution_count": 36,
   "id": "c56fbd4d",
   "metadata": {},
   "outputs": [],
   "source": [
    "@tf.function\n",
    "def train_autoencoder_init(x):\n",
    "    with tf.GradientTape() as tape:\n",
    "        x_tilde = autoencoder(x)\n",
    "        embedding_loss_t0 = mse(x, x_tilde)\n",
    "        e_loss_0 = 10 * tf.sqrt(embedding_loss_t0)\n",
    "\n",
    "    var_list = embedder.trainable_variables + recovery.trainable_variables\n",
    "    gradients = tape.gradient(e_loss_0, var_list)\n",
    "    autoencoder_optimizer.apply_gradients(zip(gradients, var_list))\n",
    "    return tf.sqrt(embedding_loss_t0)"
   ]
  },
  {
   "cell_type": "markdown",
   "id": "e1b32501",
   "metadata": {},
   "source": [
    "### 6.4. Autoencoder Training Loop"
   ]
  },
  {
   "cell_type": "code",
   "execution_count": 37,
   "id": "160a476f",
   "metadata": {},
   "outputs": [
    {
     "name": "stderr",
     "output_type": "stream",
     "text": [
      "  0%|          | 0/50000 [00:00<?, ?it/s]2023-02-08 18:48:35.908960: I tensorflow/core/grappler/optimizers/custom_graph_optimizer_registry.cc:114] Plugin optimizer for device_type GPU is enabled.\n",
      "2023-02-08 18:48:36.343508: I tensorflow/core/grappler/optimizers/custom_graph_optimizer_registry.cc:114] Plugin optimizer for device_type GPU is enabled.\n",
      "2023-02-08 18:48:36.409083: I tensorflow/core/grappler/optimizers/custom_graph_optimizer_registry.cc:114] Plugin optimizer for device_type GPU is enabled.\n",
      "2023-02-08 18:48:36.465245: I tensorflow/core/grappler/optimizers/custom_graph_optimizer_registry.cc:114] Plugin optimizer for device_type GPU is enabled.\n",
      "2023-02-08 18:48:36.525212: I tensorflow/core/grappler/optimizers/custom_graph_optimizer_registry.cc:114] Plugin optimizer for device_type GPU is enabled.\n",
      "2023-02-08 18:48:36.580915: I tensorflow/core/grappler/optimizers/custom_graph_optimizer_registry.cc:114] Plugin optimizer for device_type GPU is enabled.\n",
      "2023-02-08 18:48:36.636376: I tensorflow/core/grappler/optimizers/custom_graph_optimizer_registry.cc:114] Plugin optimizer for device_type GPU is enabled.\n",
      "2023-02-08 18:48:36.734095: I tensorflow/core/grappler/optimizers/custom_graph_optimizer_registry.cc:114] Plugin optimizer for device_type GPU is enabled.\n",
      "2023-02-08 18:48:36.832818: I tensorflow/core/grappler/optimizers/custom_graph_optimizer_registry.cc:114] Plugin optimizer for device_type GPU is enabled.\n",
      "2023-02-08 18:48:36.918359: I tensorflow/core/grappler/optimizers/custom_graph_optimizer_registry.cc:114] Plugin optimizer for device_type GPU is enabled.\n",
      "2023-02-08 18:48:37.019133: I tensorflow/core/grappler/optimizers/custom_graph_optimizer_registry.cc:114] Plugin optimizer for device_type GPU is enabled.\n",
      "2023-02-08 18:48:37.111664: I tensorflow/core/grappler/optimizers/custom_graph_optimizer_registry.cc:114] Plugin optimizer for device_type GPU is enabled.\n",
      "2023-02-08 18:48:37.195213: I tensorflow/core/grappler/optimizers/custom_graph_optimizer_registry.cc:114] Plugin optimizer for device_type GPU is enabled.\n",
      "  0%|          | 28/50000 [00:04<47:17, 17.61it/s]  2023-02-08 18:48:39.402547: I tensorflow/core/grappler/optimizers/custom_graph_optimizer_registry.cc:114] Plugin optimizer for device_type GPU is enabled.\n",
      "2023-02-08 18:48:39.834936: I tensorflow/core/grappler/optimizers/custom_graph_optimizer_registry.cc:114] Plugin optimizer for device_type GPU is enabled.\n",
      "2023-02-08 18:48:39.908846: I tensorflow/core/grappler/optimizers/custom_graph_optimizer_registry.cc:114] Plugin optimizer for device_type GPU is enabled.\n",
      "2023-02-08 18:48:39.964416: I tensorflow/core/grappler/optimizers/custom_graph_optimizer_registry.cc:114] Plugin optimizer for device_type GPU is enabled.\n",
      "2023-02-08 18:48:40.024835: I tensorflow/core/grappler/optimizers/custom_graph_optimizer_registry.cc:114] Plugin optimizer for device_type GPU is enabled.\n",
      "2023-02-08 18:48:40.081189: I tensorflow/core/grappler/optimizers/custom_graph_optimizer_registry.cc:114] Plugin optimizer for device_type GPU is enabled.\n",
      "2023-02-08 18:48:40.137367: I tensorflow/core/grappler/optimizers/custom_graph_optimizer_registry.cc:114] Plugin optimizer for device_type GPU is enabled.\n",
      "2023-02-08 18:48:40.220365: I tensorflow/core/grappler/optimizers/custom_graph_optimizer_registry.cc:114] Plugin optimizer for device_type GPU is enabled.\n",
      "2023-02-08 18:48:40.308620: I tensorflow/core/grappler/optimizers/custom_graph_optimizer_registry.cc:114] Plugin optimizer for device_type GPU is enabled.\n",
      "2023-02-08 18:48:40.392294: I tensorflow/core/grappler/optimizers/custom_graph_optimizer_registry.cc:114] Plugin optimizer for device_type GPU is enabled.\n",
      "2023-02-08 18:48:40.486582: I tensorflow/core/grappler/optimizers/custom_graph_optimizer_registry.cc:114] Plugin optimizer for device_type GPU is enabled.\n",
      "2023-02-08 18:48:40.572933: I tensorflow/core/grappler/optimizers/custom_graph_optimizer_registry.cc:114] Plugin optimizer for device_type GPU is enabled.\n",
      "2023-02-08 18:48:40.656941: I tensorflow/core/grappler/optimizers/custom_graph_optimizer_registry.cc:114] Plugin optimizer for device_type GPU is enabled.\n",
      "100%|██████████| 50000/50000 [39:55<00:00, 20.87it/s]\n"
     ]
    }
   ],
   "source": [
    "for step in tqdm(range(train_steps)):\n",
    "    X_ = next(real_series_iter)\n",
    "    step_e_loss_t0 = train_autoencoder_init(X_)\n",
    "    with writer.as_default():\n",
    "        tf.summary.scalar('Loss Autoencoder Init', step_e_loss_t0, step=step)"
   ]
  },
  {
   "cell_type": "markdown",
   "id": "b0d0db5a",
   "metadata": {},
   "source": [
    "GOOGLE_BIG: 10000/10000 [07:40<00:00, 21.72it/s]"
   ]
  },
  {
   "cell_type": "markdown",
   "id": "b46801c2",
   "metadata": {},
   "source": [
    "### 6.5. Persist model"
   ]
  },
  {
   "cell_type": "code",
   "execution_count": 38,
   "id": "6db1851a",
   "metadata": {},
   "outputs": [],
   "source": [
    "# autoencoder.save(log_dir / 'autoencoder')"
   ]
  },
  {
   "cell_type": "markdown",
   "id": "cb0a8d01",
   "metadata": {},
   "source": [
    "## 7. Phase 2: Supervised training"
   ]
  },
  {
   "cell_type": "markdown",
   "id": "c8392aaf",
   "metadata": {},
   "source": [
    "### 7.1. Define Optimizer"
   ]
  },
  {
   "cell_type": "code",
   "execution_count": 39,
   "id": "96c7018b",
   "metadata": {},
   "outputs": [],
   "source": [
    "supervisor_optimizer = Adam()"
   ]
  },
  {
   "cell_type": "markdown",
   "id": "344d8339",
   "metadata": {},
   "source": [
    "### 7.2. Train Step"
   ]
  },
  {
   "cell_type": "code",
   "execution_count": 40,
   "id": "6a70ef6a",
   "metadata": {},
   "outputs": [],
   "source": [
    "@tf.function\n",
    "def train_supervisor(x):\n",
    "    with tf.GradientTape() as tape:\n",
    "        h = embedder(x)\n",
    "        h_hat_supervised = supervisor(h)\n",
    "        # g_loss_s = mse(h[:, 1:, :], h_hat_supervised[:, :-1, :]) # from blog post\n",
    "        g_loss_s = mse(h[:, 1:, :], h_hat_supervised[:, 1:, :])\n",
    "\n",
    "    var_list = supervisor.trainable_variables\n",
    "    gradients = tape.gradient(g_loss_s, var_list)\n",
    "    supervisor_optimizer.apply_gradients(zip(gradients, var_list))\n",
    "    return g_loss_s"
   ]
  },
  {
   "cell_type": "markdown",
   "id": "a08dc280",
   "metadata": {},
   "source": [
    "### 7.3. Training Loop"
   ]
  },
  {
   "cell_type": "code",
   "execution_count": 41,
   "id": "ffced413",
   "metadata": {
    "scrolled": true
   },
   "outputs": [
    {
     "name": "stderr",
     "output_type": "stream",
     "text": [
      "  0%|          | 0/50000 [00:00<?, ?it/s]2023-02-08 19:28:31.159058: I tensorflow/core/grappler/optimizers/custom_graph_optimizer_registry.cc:114] Plugin optimizer for device_type GPU is enabled.\n",
      "2023-02-08 19:28:31.498827: I tensorflow/core/grappler/optimizers/custom_graph_optimizer_registry.cc:114] Plugin optimizer for device_type GPU is enabled.\n",
      "2023-02-08 19:28:31.560846: I tensorflow/core/grappler/optimizers/custom_graph_optimizer_registry.cc:114] Plugin optimizer for device_type GPU is enabled.\n",
      "2023-02-08 19:28:31.615559: I tensorflow/core/grappler/optimizers/custom_graph_optimizer_registry.cc:114] Plugin optimizer for device_type GPU is enabled.\n",
      "2023-02-08 19:28:31.672351: I tensorflow/core/grappler/optimizers/custom_graph_optimizer_registry.cc:114] Plugin optimizer for device_type GPU is enabled.\n",
      "2023-02-08 19:28:31.732500: I tensorflow/core/grappler/optimizers/custom_graph_optimizer_registry.cc:114] Plugin optimizer for device_type GPU is enabled.\n",
      "2023-02-08 19:28:31.822951: I tensorflow/core/grappler/optimizers/custom_graph_optimizer_registry.cc:114] Plugin optimizer for device_type GPU is enabled.\n",
      "2023-02-08 19:28:31.910981: I tensorflow/core/grappler/optimizers/custom_graph_optimizer_registry.cc:114] Plugin optimizer for device_type GPU is enabled.\n",
      "  0%|          | 24/50000 [00:03<44:25, 18.75it/s]  2023-02-08 19:28:33.441220: I tensorflow/core/grappler/optimizers/custom_graph_optimizer_registry.cc:114] Plugin optimizer for device_type GPU is enabled.\n",
      "2023-02-08 19:28:33.743276: I tensorflow/core/grappler/optimizers/custom_graph_optimizer_registry.cc:114] Plugin optimizer for device_type GPU is enabled.\n",
      "2023-02-08 19:28:33.808185: I tensorflow/core/grappler/optimizers/custom_graph_optimizer_registry.cc:114] Plugin optimizer for device_type GPU is enabled.\n",
      "2023-02-08 19:28:33.860717: I tensorflow/core/grappler/optimizers/custom_graph_optimizer_registry.cc:114] Plugin optimizer for device_type GPU is enabled.\n",
      "2023-02-08 19:28:33.914744: I tensorflow/core/grappler/optimizers/custom_graph_optimizer_registry.cc:114] Plugin optimizer for device_type GPU is enabled.\n",
      "2023-02-08 19:28:33.972690: I tensorflow/core/grappler/optimizers/custom_graph_optimizer_registry.cc:114] Plugin optimizer for device_type GPU is enabled.\n",
      "2023-02-08 19:28:34.043712: I tensorflow/core/grappler/optimizers/custom_graph_optimizer_registry.cc:114] Plugin optimizer for device_type GPU is enabled.\n",
      "2023-02-08 19:28:34.129922: I tensorflow/core/grappler/optimizers/custom_graph_optimizer_registry.cc:114] Plugin optimizer for device_type GPU is enabled.\n",
      " 83%|████████▎ | 41316/50000 [19:58<04:10, 34.68it/s]"
     ]
    }
   ],
   "source": [
    "for step in tqdm(range(train_steps)):\n",
    "    X_ = next(real_series_iter)\n",
    "    step_g_loss_s = train_supervisor(X_)\n",
    "    with writer.as_default():\n",
    "        tf.summary.scalar('Loss Generator Supervised Init', step_g_loss_s, step=step)"
   ]
  },
  {
   "cell_type": "markdown",
   "id": "6cc2ee97",
   "metadata": {},
   "source": [
    "GOOGLE_BIG: 10000/10000 [04:28<00:00, 37.29it/s]"
   ]
  },
  {
   "cell_type": "markdown",
   "id": "fe551b1e",
   "metadata": {},
   "source": [
    "### 7.4. Persist Model"
   ]
  },
  {
   "cell_type": "code",
   "execution_count": null,
   "id": "1e5095a8",
   "metadata": {},
   "outputs": [],
   "source": [
    "# supervisor.save(log_dir / 'supervisor')"
   ]
  },
  {
   "cell_type": "markdown",
   "id": "af65109b",
   "metadata": {},
   "source": [
    "## 8. Joint Training"
   ]
  },
  {
   "cell_type": "markdown",
   "id": "d49c6182",
   "metadata": {},
   "source": [
    "### 8.1. Generator"
   ]
  },
  {
   "cell_type": "markdown",
   "id": "3eef9c0d",
   "metadata": {},
   "source": [
    "#### 8.1.1. Adversarial Architecture - Supervised"
   ]
  },
  {
   "cell_type": "code",
   "execution_count": null,
   "id": "b75c87d4",
   "metadata": {},
   "outputs": [],
   "source": [
    "E_hat = generator(Z)\n",
    "H_hat = supervisor(E_hat)\n",
    "Y_fake = discriminator(H_hat)\n",
    "\n",
    "adversarial_supervised = Model(inputs=Z,\n",
    "                               outputs=Y_fake,\n",
    "                               name='AdversarialNetSupervised')"
   ]
  },
  {
   "cell_type": "code",
   "execution_count": null,
   "id": "7aa5b495",
   "metadata": {},
   "outputs": [],
   "source": [
    "adversarial_supervised.summary()"
   ]
  },
  {
   "cell_type": "code",
   "execution_count": null,
   "id": "7051a04e",
   "metadata": {},
   "outputs": [],
   "source": [
    "plot_model(adversarial_supervised, show_shapes=True)"
   ]
  },
  {
   "cell_type": "markdown",
   "id": "dcd05931",
   "metadata": {},
   "source": [
    "#### 8.1.2. Adversarial Architecture in Latent Space"
   ]
  },
  {
   "cell_type": "code",
   "execution_count": null,
   "id": "4da66e8c",
   "metadata": {},
   "outputs": [],
   "source": [
    "Y_fake_e = discriminator(E_hat)\n",
    "\n",
    "adversarial_emb = Model(inputs=Z,\n",
    "                    outputs=Y_fake_e,\n",
    "                    name='AdversarialNet')"
   ]
  },
  {
   "cell_type": "code",
   "execution_count": null,
   "id": "d6a85da4",
   "metadata": {},
   "outputs": [],
   "source": [
    "adversarial_emb.summary()"
   ]
  },
  {
   "cell_type": "code",
   "execution_count": null,
   "id": "5d719519",
   "metadata": {},
   "outputs": [],
   "source": [
    "plot_model(adversarial_emb, show_shapes=True)"
   ]
  },
  {
   "cell_type": "markdown",
   "id": "a14ae2f1",
   "metadata": {},
   "source": [
    "#### 8.1.3. Mean & Variance Loss"
   ]
  },
  {
   "cell_type": "code",
   "execution_count": null,
   "id": "f4214a1b",
   "metadata": {},
   "outputs": [],
   "source": [
    "X_hat = recovery(H_hat)\n",
    "synthetic_data = Model(inputs=Z,\n",
    "                       outputs=X_hat,\n",
    "                       name='SyntheticData')"
   ]
  },
  {
   "cell_type": "code",
   "execution_count": null,
   "id": "2f8b5414",
   "metadata": {},
   "outputs": [],
   "source": [
    "synthetic_data.summary()"
   ]
  },
  {
   "cell_type": "code",
   "execution_count": null,
   "id": "7d1c8d8e",
   "metadata": {},
   "outputs": [],
   "source": [
    "plot_model(synthetic_data, show_shapes=True)"
   ]
  },
  {
   "cell_type": "code",
   "execution_count": null,
   "id": "f44ee900",
   "metadata": {},
   "outputs": [],
   "source": [
    "def get_generator_moment_loss(y_true, y_pred):\n",
    "    y_true_mean, y_true_var = tf.nn.moments(x=y_true, axes=[0])\n",
    "    y_pred_mean, y_pred_var = tf.nn.moments(x=y_pred, axes=[0])\n",
    "    g_loss_mean = tf.reduce_mean(tf.abs(y_true_mean - y_pred_mean))\n",
    "    g_loss_var = tf.reduce_mean(tf.abs(tf.sqrt(y_true_var + 1e-6) - tf.sqrt(y_pred_var + 1e-6)))\n",
    "    return g_loss_mean + g_loss_var"
   ]
  },
  {
   "cell_type": "markdown",
   "id": "dcbe5322",
   "metadata": {},
   "source": [
    "### 8.2. Discriminator"
   ]
  },
  {
   "cell_type": "markdown",
   "id": "f1cf3fc2",
   "metadata": {},
   "source": [
    "#### 8.2.1. Architecture: Real Data"
   ]
  },
  {
   "cell_type": "code",
   "execution_count": null,
   "id": "76943934",
   "metadata": {},
   "outputs": [],
   "source": [
    "Y_real = discriminator(H)\n",
    "discriminator_model = Model(inputs=X,\n",
    "                            outputs=Y_real,\n",
    "                            name='DiscriminatorReal')"
   ]
  },
  {
   "cell_type": "code",
   "execution_count": null,
   "id": "1110cc83",
   "metadata": {},
   "outputs": [],
   "source": [
    "discriminator_model.summary()"
   ]
  },
  {
   "cell_type": "code",
   "execution_count": null,
   "id": "805f3e7d",
   "metadata": {},
   "outputs": [],
   "source": [
    "plot_model(discriminator_model, show_shapes=True)"
   ]
  },
  {
   "cell_type": "markdown",
   "id": "689f1224",
   "metadata": {},
   "source": [
    "### 8.3. Optimizers"
   ]
  },
  {
   "cell_type": "code",
   "execution_count": null,
   "id": "ab0a4a19",
   "metadata": {},
   "outputs": [],
   "source": [
    "generator_optimizer = Adam()\n",
    "discriminator_optimizer = Adam()\n",
    "embedding_optimizer = Adam()"
   ]
  },
  {
   "cell_type": "markdown",
   "id": "08b32fbe",
   "metadata": {},
   "source": [
    "### 8.4. Generator Train Step"
   ]
  },
  {
   "cell_type": "code",
   "execution_count": null,
   "id": "ce03afe3",
   "metadata": {},
   "outputs": [],
   "source": [
    "@tf.function\n",
    "def train_generator(x, z):\n",
    "    with tf.GradientTape() as tape:\n",
    "        y_fake = adversarial_supervised(z)\n",
    "        generator_loss_unsupervised = bce(y_true=tf.ones_like(y_fake),\n",
    "                                          y_pred=y_fake)\n",
    "\n",
    "        y_fake_e = adversarial_emb(z)\n",
    "        generator_loss_unsupervised_e = bce(y_true=tf.ones_like(y_fake_e),\n",
    "                                            y_pred=y_fake_e)\n",
    "        h = embedder(x)\n",
    "        h_hat_supervised = supervisor(h)\n",
    "        generator_loss_supervised = mse(h[:, 1:, :], h_hat_supervised[:, 1:, :])\n",
    "\n",
    "        x_hat = synthetic_data(z)\n",
    "        generator_moment_loss = get_generator_moment_loss(x, x_hat)\n",
    "\n",
    "        generator_loss = (generator_loss_unsupervised +\n",
    "                          generator_loss_unsupervised_e +\n",
    "                          100 * tf.sqrt(generator_loss_supervised) +\n",
    "                          100 * generator_moment_loss)\n",
    "\n",
    "    var_list = generator.trainable_variables + supervisor.trainable_variables\n",
    "    gradients = tape.gradient(generator_loss, var_list)\n",
    "    generator_optimizer.apply_gradients(zip(gradients, var_list))\n",
    "    return generator_loss_unsupervised, generator_loss_supervised, generator_moment_loss"
   ]
  },
  {
   "cell_type": "markdown",
   "id": "fb6c7028",
   "metadata": {},
   "source": [
    "### 8.5. Embedding Train Step"
   ]
  },
  {
   "cell_type": "code",
   "execution_count": null,
   "id": "f4ecfd32",
   "metadata": {},
   "outputs": [],
   "source": [
    "@tf.function\n",
    "def train_embedder(x):\n",
    "    with tf.GradientTape() as tape:\n",
    "        h = embedder(x)\n",
    "        h_hat_supervised = supervisor(h)\n",
    "        g_loss_s = mse(h[:, 1:, :], h_hat_supervised[:, 1:, :])\n",
    "\n",
    "        x_tilde = autoencoder(x)\n",
    "        embedding_loss_t0 = mse(x, x_tilde)\n",
    "        e_loss_0 = 10 * tf.sqrt(embedding_loss_t0)\n",
    "        e_loss = e_loss_0 + 0.1 * g_loss_s\n",
    "\n",
    "    var_list = embedder.trainable_variables + recovery.trainable_variables\n",
    "    gradients = tape.gradient(e_loss, var_list)\n",
    "    embedding_optimizer.apply_gradients(zip(gradients, var_list))\n",
    "    return tf.sqrt(embedding_loss_t0)"
   ]
  },
  {
   "cell_type": "markdown",
   "id": "4874451f",
   "metadata": {},
   "source": [
    "### 8.6. Discriminator Train Step"
   ]
  },
  {
   "cell_type": "code",
   "execution_count": null,
   "id": "ae0eaa22",
   "metadata": {},
   "outputs": [],
   "source": [
    "@tf.function\n",
    "def get_discriminator_loss(x, z):\n",
    "    y_real = discriminator_model(x)\n",
    "    discriminator_loss_real = bce(y_true=tf.ones_like(y_real),\n",
    "                                  y_pred=y_real)\n",
    "\n",
    "    y_fake = adversarial_supervised(z)\n",
    "    discriminator_loss_fake = bce(y_true=tf.zeros_like(y_fake),\n",
    "                                  y_pred=y_fake)\n",
    "\n",
    "    y_fake_e = adversarial_emb(z)\n",
    "    discriminator_loss_fake_e = bce(y_true=tf.zeros_like(y_fake_e),\n",
    "                                    y_pred=y_fake_e)\n",
    "    return (discriminator_loss_real +\n",
    "            discriminator_loss_fake +\n",
    "            gamma * discriminator_loss_fake_e)"
   ]
  },
  {
   "cell_type": "code",
   "execution_count": null,
   "id": "27dd7c80",
   "metadata": {},
   "outputs": [],
   "source": [
    "@tf.function\n",
    "def train_discriminator(x, z):\n",
    "    with tf.GradientTape() as tape:\n",
    "        discriminator_loss = get_discriminator_loss(x, z)\n",
    "\n",
    "    var_list = discriminator.trainable_variables\n",
    "    gradients = tape.gradient(discriminator_loss, var_list)\n",
    "    discriminator_optimizer.apply_gradients(zip(gradients, var_list))\n",
    "    return discriminator_loss"
   ]
  },
  {
   "cell_type": "markdown",
   "id": "eeea8649",
   "metadata": {},
   "source": [
    "### 8.7. Training Loop"
   ]
  },
  {
   "cell_type": "code",
   "execution_count": null,
   "id": "e7b8c2f6",
   "metadata": {},
   "outputs": [],
   "source": [
    "step_g_loss_u = step_g_loss_s = step_g_loss_v = step_e_loss_t0 = step_d_loss = 0\n",
    "for step in range(train_steps):\n",
    "    # Train generator (twice as often as discriminator)\n",
    "    for kk in range(2):\n",
    "        X_ = next(real_series_iter)\n",
    "        Z_ = next(random_series)\n",
    "\n",
    "        # Train generator\n",
    "        step_g_loss_u, step_g_loss_s, step_g_loss_v = train_generator(X_, Z_)\n",
    "        # Train embedder\n",
    "        step_e_loss_t0 = train_embedder(X_)\n",
    "\n",
    "    X_ = next(real_series_iter)\n",
    "    Z_ = next(random_series)\n",
    "    step_d_loss = get_discriminator_loss(X_, Z_)\n",
    "    if step_d_loss > 0.15:\n",
    "        step_d_loss = train_discriminator(X_, Z_)\n",
    "\n",
    "    if step % 1000 == 0:\n",
    "        print(f'{step:6,.0f} | d_loss: {step_d_loss:6.4f} | g_loss_u: {step_g_loss_u:6.4f} | '\n",
    "              f'g_loss_s: {step_g_loss_s:6.4f} | g_loss_v: {step_g_loss_v:6.4f} | e_loss_t0: {step_e_loss_t0:6.4f}')\n",
    "\n",
    "    with writer.as_default():\n",
    "        tf.summary.scalar('G Loss S', step_g_loss_s, step=step)\n",
    "        tf.summary.scalar('G Loss U', step_g_loss_u, step=step)\n",
    "        tf.summary.scalar('G Loss V', step_g_loss_v, step=step)\n",
    "        tf.summary.scalar('E Loss T0', step_e_loss_t0, step=step)\n",
    "        tf.summary.scalar('D Loss', step_d_loss, step=step)"
   ]
  },
  {
   "attachments": {},
   "cell_type": "markdown",
   "id": "642b9f82",
   "metadata": {},
   "source": [
    "GOOGLE_BIG: (attempt 2)\n",
    "- Fixed supervisor loss according to original code)\n",
    "- Start: 1:43\n",
    "\n",
    "| step? | G Loss S | G Loss U | G Loss V | E Loss T0 | D Loss | \n",
    "| --- | --- | --- | --- | --- | --- |\n",
    "| 0 | d_loss: 2.2243 | g_loss_u: 0.6643 | g_loss_s: 0.0000 | g_loss_v: 0.6156 | e_loss_t0: 0.0470 \n",
    "| 1,000 | d_loss: 1.5633 | g_loss_u: 1.1609 | g_loss_s: 0.0000 | g_loss_v: 0.3569 | e_loss_t0: 0.0365\n",
    "| 2,000 | d_loss: 0.2811 | g_loss_u: 3.1629 | g_loss_s: 0.0001 | g_loss_v: 0.6501 | e_loss_t0: 0.0431\n",
    "| 3,000 | d_loss: 0.1914 | g_loss_u: 3.4952 | g_loss_s: 0.0393 | g_loss_v: 0.6104 | e_loss_t0: 0.0549\n",
    "|4,000 | d_loss: 0.5600 | g_loss_u: 4.1412 | g_loss_s: 0.1094 | g_loss_v: 0.2825 | e_loss_t0: 0.0503\n",
    "| 5,000 | d_loss: 0.1652 | g_loss_u: 6.5578 | g_loss_s: 0.0383 | g_loss_v: 0.2855 | e_loss_t0: 0.0373\n",
    "| 6,000 | d_loss: 0.1594 | g_loss_u: 5.6045 | g_loss_s: 0.0330 | g_loss_v: 0.3608 | e_loss_t0: 0.0489\n",
    "| 7,000 | d_loss: 0.1902 | g_loss_u: 8.0011 | g_loss_s: 0.0232 | g_loss_v: 0.5577 | e_loss_t0: 0.0504"
   ]
  },
  {
   "cell_type": "markdown",
   "id": "ffa8a6e7",
   "metadata": {},
   "source": [
    "GOOGLE_BIG:  \n",
    "\n",
    "| step? | G Loss S | G Loss U | G Loss V | E Loss T0 | D Loss | \n",
    "| --- | --- | --- | --- | --- | --- |\n",
    "|0 | d_loss: 2.0486 | g_loss_u: 0.8183 | g_loss_s: 0.0042 | g_loss_v: 0.7469 | e_loss_t0: 0.0417 |\n",
    "| 1,000 | d_loss: 0.1299 | g_loss_u: 3.3986 | g_loss_s: 0.0532 | g_loss_v: 0.7612 | e_loss_t0: 0.0427 |\n",
    "| 2,000 | d_loss: 0.1065 | g_loss_u: 5.1381 | g_loss_s: 0.1472 | g_loss_v: 0.7678 | e_loss_t0: 0.0349 |\n",
    "| 3,000 | d_loss: 1.0576 | g_loss_u: 1.0446 | g_loss_s: 0.0542 | g_loss_v: 0.5752 | e_loss_t0: 0.0521 |\n",
    "| 4,000 | d_loss: 0.1406 | g_loss_u: 4.6089 | g_loss_s: 0.1230 | g_loss_v: 0.5067 | e_loss_t0: 0.0417 |\n",
    "| 5,000 | d_loss: 0.1104 | g_loss_u: 4.0239 | g_loss_s: 0.2800 | g_loss_v: 0.6347 | e_loss_t0: 0.0401 |\n",
    "| 6,000 | d_loss: 0.1212 | g_loss_u: 4.0914 | g_loss_s: 0.2253 | g_loss_v: 0.4564 | e_loss_t0: 0.0451 |\n",
    "| 7,000 | d_loss: 0.0985 | g_loss_u: 4.0673 | g_loss_s: 0.1251 | g_loss_v: 0.5122 | e_loss_t0: 0.0402 |\n",
    "| 8,000 | d_loss: 0.0949 | g_loss_u: 4.5053 | g_loss_s: 0.0323 | g_loss_v: 0.4036 | e_loss_t0: 0.0440 |\n",
    "| 9,000 | d_loss: 0.0827 | g_loss_u: 4.5532 | g_loss_s: 0.0741 | g_loss_v: 0.5130 | e_loss_t0: 0.0657 |\n",
    "\n",
    "~2.5 hours"
   ]
  },
  {
   "cell_type": "markdown",
   "id": "5cb700da",
   "metadata": {},
   "source": [
    "### 8.8. Persist Synthetic Data Generator"
   ]
  },
  {
   "cell_type": "code",
   "execution_count": null,
   "id": "fd1ba98f",
   "metadata": {},
   "outputs": [],
   "source": [
    "synthetic_data.save(log_dir / 'synthetic_data')"
   ]
  },
  {
   "cell_type": "markdown",
   "id": "fabcbe82",
   "metadata": {},
   "source": [
    "## 9. Generate Synthetic Data"
   ]
  },
  {
   "cell_type": "code",
   "execution_count": null,
   "id": "53e1d760",
   "metadata": {},
   "outputs": [],
   "source": [
    "generated_data = []\n",
    "for i in range(int(n_windows / batch_size)):\n",
    "    Z_ = next(random_series)\n",
    "    d = synthetic_data(Z_)\n",
    "    generated_data.append(d)"
   ]
  },
  {
   "cell_type": "code",
   "execution_count": null,
   "id": "bf34c07a",
   "metadata": {},
   "outputs": [],
   "source": [
    "len(generated_data)"
   ]
  },
  {
   "cell_type": "code",
   "execution_count": null,
   "id": "b0e10c4f",
   "metadata": {},
   "outputs": [],
   "source": [
    "generated_data = np.array(np.vstack(generated_data))\n",
    "generated_data.shape"
   ]
  },
  {
   "cell_type": "code",
   "execution_count": null,
   "id": "7386462d",
   "metadata": {},
   "outputs": [],
   "source": [
    "np.save(log_dir / 'generated_data.npy', generated_data)"
   ]
  },
  {
   "cell_type": "markdown",
   "id": "34c7bb78",
   "metadata": {},
   "source": [
    "### 9.1. Rescale"
   ]
  },
  {
   "cell_type": "code",
   "execution_count": null,
   "id": "b4b52c14",
   "metadata": {},
   "outputs": [],
   "source": [
    "generated_data = (scaler.inverse_transform(\n",
    "                    generated_data.reshape(-1, n_seq)\n",
    "                ).reshape(-1, seq_len, n_seq))\n",
    "\n",
    "generated_data.shape"
   ]
  },
  {
   "cell_type": "markdown",
   "id": "5d37dcb9",
   "metadata": {},
   "source": [
    "### 9.2. Persist Data"
   ]
  },
  {
   "cell_type": "code",
   "execution_count": null,
   "id": "22cb095c",
   "metadata": {},
   "outputs": [],
   "source": [
    "with pd.HDFStore(hdf_store) as store:\n",
    "    store.put('data/synthetic', pd.DataFrame(generated_data.reshape(-1, n_seq),\n",
    "                                             columns=features))"
   ]
  },
  {
   "cell_type": "markdown",
   "id": "1c97ef71",
   "metadata": {},
   "source": [
    "### 9.3. Plot sample Series"
   ]
  },
  {
   "cell_type": "code",
   "execution_count": null,
   "id": "acd31dc3",
   "metadata": {},
   "outputs": [],
   "source": [
    "fig, axes = plt.subplots(nrows=3, ncols=2, figsize=(14, 7))\n",
    "axes = axes.flatten()\n",
    "\n",
    "index = list(range(1, 25))\n",
    "synthetic = generated_data[np.random.randint(n_windows)]\n",
    "\n",
    "idx = np.random.randint(len(df) - seq_len)\n",
    "real = df.iloc[idx: idx + seq_len]\n",
    "\n",
    "for j, feature in enumerate(features):\n",
    "    (pd.DataFrame({'Real': real.iloc[:, j].values,\n",
    "                   'Synthetic': synthetic[:, j]})\n",
    "     .plot(ax=axes[j],\n",
    "           title=feature,\n",
    "           secondary_y='Synthetic', style=['-', '--'],\n",
    "           lw=1))\n",
    "sns.despine()\n",
    "fig.tight_layout()"
   ]
  },
  {
   "cell_type": "code",
   "execution_count": null,
   "id": "8d20d43e",
   "metadata": {},
   "outputs": [],
   "source": []
  }
 ],
 "metadata": {
  "kernelspec": {
   "display_name": "TimeGANEnv",
   "language": "python",
   "name": "python3"
  },
  "language_info": {
   "codemirror_mode": {
    "name": "ipython",
    "version": 3
   },
   "file_extension": ".py",
   "mimetype": "text/x-python",
   "name": "python",
   "nbconvert_exporter": "python",
   "pygments_lexer": "ipython3",
   "version": "3.10.9"
  },
  "varInspector": {
   "cols": {
    "lenName": 16,
    "lenType": 16,
    "lenVar": 40
   },
   "kernels_config": {
    "python": {
     "delete_cmd_postfix": "",
     "delete_cmd_prefix": "del ",
     "library": "var_list.py",
     "varRefreshCmd": "print(var_dic_list())"
    },
    "r": {
     "delete_cmd_postfix": ") ",
     "delete_cmd_prefix": "rm(",
     "library": "var_list.r",
     "varRefreshCmd": "cat(var_dic_list()) "
    }
   },
   "types_to_exclude": [
    "module",
    "function",
    "builtin_function_or_method",
    "instance",
    "_Feature"
   ],
   "window_display": false
  },
  "vscode": {
   "interpreter": {
    "hash": "ae93793ffb69783fed9747f5b3d483de4f8408819327cf5dbd45ae78cd15edd5"
   }
  }
 },
 "nbformat": 4,
 "nbformat_minor": 5
}
